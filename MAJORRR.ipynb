{
  "cells": [
    {
      "cell_type": "code",
      "execution_count": null,
      "metadata": {
        "id": "3oMxA8hY_3Hg"
      },
      "outputs": [],
      "source": [
        "#!pip install gradio"
      ]
    },
    {
      "cell_type": "code",
      "execution_count": null,
      "metadata": {
        "id": "Xd7YtcG6_6C9"
      },
      "outputs": [],
      "source": [
        "import time\n",
        "import pandas as pd\n",
        "import numpy as np\n",
        "import nltk\n",
        "from nltk.corpus import stopwords\n",
        "from nltk.stem.porter import PorterStemmer\n",
        "import matplotlib.pyplot as plt\n",
        "from sklearn.feature_extraction.text import TfidfVectorizer\n",
        "from sklearn.pipeline import Pipeline\n",
        "from sklearn.model_selection import train_test_split\n",
        "from sklearn.model_selection import cross_val_score\n",
        "from sklearn.metrics import accuracy_score\n",
        "from sklearn.metrics import f1_score\n",
        "from sklearn.metrics import roc_auc_score\n",
        "from sklearn.metrics import precision_score\n",
        "from sklearn.metrics import recall_score\n",
        "from sklearn.metrics import classification_report"
      ]
    },
    {
      "cell_type": "code",
      "execution_count": null,
      "metadata": {
        "id": "Xh_3rmhi_9Q2"
      },
      "outputs": [],
      "source": [
        "pd.set_option('max_colwidth', None)"
      ]
    },
    {
      "cell_type": "code",
      "execution_count": null,
      "metadata": {
        "colab": {
          "base_uri": "https://localhost:8080/"
        },
        "id": "XLy4Mkn-_-Tc",
        "outputId": "4ea468f5-cec7-4672-f284-eba55078f1c8"
      },
      "outputs": [
        {
          "output_type": "stream",
          "name": "stderr",
          "text": [
            "[nltk_data] Downloading package wordnet to /root/nltk_data...\n"
          ]
        },
        {
          "output_type": "execute_result",
          "data": {
            "text/plain": [
              "True"
            ]
          },
          "metadata": {},
          "execution_count": 4
        }
      ],
      "source": [
        "import numpy as np\n",
        "import pandas as pd\n",
        "import seaborn as sns\n",
        "import matplotlib.pyplot as plt\n",
        "%matplotlib inline\n",
        "import warnings\n",
        "warnings.filterwarnings('ignore')\n",
        "from nltk.corpus import stopwords\n",
        "from sklearn.feature_extraction.text import TfidfTransformer, CountVectorizer\n",
        "from sklearn.metrics import classification_report, confusion_matrix\n",
        "from sklearn.model_selection import train_test_split\n",
        "import string, nltk\n",
        "from nltk import word_tokenize\n",
        "from nltk.stem import PorterStemmer\n",
        "from nltk.stem import WordNetLemmatizer\n",
        "nltk.download('wordnet')"
      ]
    },
    {
      "cell_type": "code",
      "execution_count": null,
      "metadata": {
        "colab": {
          "base_uri": "https://localhost:8080/"
        },
        "id": "0w2aILtPAAZe",
        "outputId": "9bb5a4f2-c6bf-4fdf-b64a-fc92802ea520"
      },
      "outputs": [
        {
          "output_type": "stream",
          "name": "stderr",
          "text": [
            "[nltk_data] Downloading package omw-1.4 to /root/nltk_data...\n"
          ]
        },
        {
          "output_type": "execute_result",
          "data": {
            "text/plain": [
              "True"
            ]
          },
          "metadata": {},
          "execution_count": 5
        }
      ],
      "source": [
        "nltk.download('omw-1.4')"
      ]
    },
    {
      "cell_type": "code",
      "execution_count": null,
      "metadata": {
        "colab": {
          "base_uri": "https://localhost:8080/",
          "height": 206
        },
        "id": "ntKYplAtACRK",
        "outputId": "3002186c-8057-470b-a119-2f99e5806ef3"
      },
      "outputs": [
        {
          "output_type": "execute_result",
          "data": {
            "text/plain": [
              "             category  rating label  \\\n",
              "0  Home_and_Kitchen_5       5    CG   \n",
              "1  Home_and_Kitchen_5       5    CG   \n",
              "2  Home_and_Kitchen_5       5    CG   \n",
              "3  Home_and_Kitchen_5       1    CG   \n",
              "4  Home_and_Kitchen_5       5    CG   \n",
              "\n",
              "                                                                                   text_  \n",
              "0            Love this!  Well made, sturdy, and very comfortable.  I love it!Very pretty  \n",
              "1       love it, a great upgrade from the original.  I've had mine for a couple of years  \n",
              "2                    This pillow saved my back. I love the look and feel of this pillow.  \n",
              "3      Missing information on how to use it, but it is a great product for the price!  I  \n",
              "4  Very nice set. Good quality. We have had the set for two months now and have not been  "
            ],
            "text/html": [
              "\n",
              "  <div id=\"df-f6a82bdb-3e4e-4299-80bd-475264ae5220\" class=\"colab-df-container\">\n",
              "    <div>\n",
              "<style scoped>\n",
              "    .dataframe tbody tr th:only-of-type {\n",
              "        vertical-align: middle;\n",
              "    }\n",
              "\n",
              "    .dataframe tbody tr th {\n",
              "        vertical-align: top;\n",
              "    }\n",
              "\n",
              "    .dataframe thead th {\n",
              "        text-align: right;\n",
              "    }\n",
              "</style>\n",
              "<table border=\"1\" class=\"dataframe\">\n",
              "  <thead>\n",
              "    <tr style=\"text-align: right;\">\n",
              "      <th></th>\n",
              "      <th>category</th>\n",
              "      <th>rating</th>\n",
              "      <th>label</th>\n",
              "      <th>text_</th>\n",
              "    </tr>\n",
              "  </thead>\n",
              "  <tbody>\n",
              "    <tr>\n",
              "      <th>0</th>\n",
              "      <td>Home_and_Kitchen_5</td>\n",
              "      <td>5</td>\n",
              "      <td>CG</td>\n",
              "      <td>Love this!  Well made, sturdy, and very comfortable.  I love it!Very pretty</td>\n",
              "    </tr>\n",
              "    <tr>\n",
              "      <th>1</th>\n",
              "      <td>Home_and_Kitchen_5</td>\n",
              "      <td>5</td>\n",
              "      <td>CG</td>\n",
              "      <td>love it, a great upgrade from the original.  I've had mine for a couple of years</td>\n",
              "    </tr>\n",
              "    <tr>\n",
              "      <th>2</th>\n",
              "      <td>Home_and_Kitchen_5</td>\n",
              "      <td>5</td>\n",
              "      <td>CG</td>\n",
              "      <td>This pillow saved my back. I love the look and feel of this pillow.</td>\n",
              "    </tr>\n",
              "    <tr>\n",
              "      <th>3</th>\n",
              "      <td>Home_and_Kitchen_5</td>\n",
              "      <td>1</td>\n",
              "      <td>CG</td>\n",
              "      <td>Missing information on how to use it, but it is a great product for the price!  I</td>\n",
              "    </tr>\n",
              "    <tr>\n",
              "      <th>4</th>\n",
              "      <td>Home_and_Kitchen_5</td>\n",
              "      <td>5</td>\n",
              "      <td>CG</td>\n",
              "      <td>Very nice set. Good quality. We have had the set for two months now and have not been</td>\n",
              "    </tr>\n",
              "  </tbody>\n",
              "</table>\n",
              "</div>\n",
              "    <div class=\"colab-df-buttons\">\n",
              "\n",
              "  <div class=\"colab-df-container\">\n",
              "    <button class=\"colab-df-convert\" onclick=\"convertToInteractive('df-f6a82bdb-3e4e-4299-80bd-475264ae5220')\"\n",
              "            title=\"Convert this dataframe to an interactive table.\"\n",
              "            style=\"display:none;\">\n",
              "\n",
              "  <svg xmlns=\"http://www.w3.org/2000/svg\" height=\"24px\" viewBox=\"0 -960 960 960\">\n",
              "    <path d=\"M120-120v-720h720v720H120Zm60-500h600v-160H180v160Zm220 220h160v-160H400v160Zm0 220h160v-160H400v160ZM180-400h160v-160H180v160Zm440 0h160v-160H620v160ZM180-180h160v-160H180v160Zm440 0h160v-160H620v160Z\"/>\n",
              "  </svg>\n",
              "    </button>\n",
              "\n",
              "  <style>\n",
              "    .colab-df-container {\n",
              "      display:flex;\n",
              "      gap: 12px;\n",
              "    }\n",
              "\n",
              "    .colab-df-convert {\n",
              "      background-color: #E8F0FE;\n",
              "      border: none;\n",
              "      border-radius: 50%;\n",
              "      cursor: pointer;\n",
              "      display: none;\n",
              "      fill: #1967D2;\n",
              "      height: 32px;\n",
              "      padding: 0 0 0 0;\n",
              "      width: 32px;\n",
              "    }\n",
              "\n",
              "    .colab-df-convert:hover {\n",
              "      background-color: #E2EBFA;\n",
              "      box-shadow: 0px 1px 2px rgba(60, 64, 67, 0.3), 0px 1px 3px 1px rgba(60, 64, 67, 0.15);\n",
              "      fill: #174EA6;\n",
              "    }\n",
              "\n",
              "    .colab-df-buttons div {\n",
              "      margin-bottom: 4px;\n",
              "    }\n",
              "\n",
              "    [theme=dark] .colab-df-convert {\n",
              "      background-color: #3B4455;\n",
              "      fill: #D2E3FC;\n",
              "    }\n",
              "\n",
              "    [theme=dark] .colab-df-convert:hover {\n",
              "      background-color: #434B5C;\n",
              "      box-shadow: 0px 1px 3px 1px rgba(0, 0, 0, 0.15);\n",
              "      filter: drop-shadow(0px 1px 2px rgba(0, 0, 0, 0.3));\n",
              "      fill: #FFFFFF;\n",
              "    }\n",
              "  </style>\n",
              "\n",
              "    <script>\n",
              "      const buttonEl =\n",
              "        document.querySelector('#df-f6a82bdb-3e4e-4299-80bd-475264ae5220 button.colab-df-convert');\n",
              "      buttonEl.style.display =\n",
              "        google.colab.kernel.accessAllowed ? 'block' : 'none';\n",
              "\n",
              "      async function convertToInteractive(key) {\n",
              "        const element = document.querySelector('#df-f6a82bdb-3e4e-4299-80bd-475264ae5220');\n",
              "        const dataTable =\n",
              "          await google.colab.kernel.invokeFunction('convertToInteractive',\n",
              "                                                    [key], {});\n",
              "        if (!dataTable) return;\n",
              "\n",
              "        const docLinkHtml = 'Like what you see? Visit the ' +\n",
              "          '<a target=\"_blank\" href=https://colab.research.google.com/notebooks/data_table.ipynb>data table notebook</a>'\n",
              "          + ' to learn more about interactive tables.';\n",
              "        element.innerHTML = '';\n",
              "        dataTable['output_type'] = 'display_data';\n",
              "        await google.colab.output.renderOutput(dataTable, element);\n",
              "        const docLink = document.createElement('div');\n",
              "        docLink.innerHTML = docLinkHtml;\n",
              "        element.appendChild(docLink);\n",
              "      }\n",
              "    </script>\n",
              "  </div>\n",
              "\n",
              "\n",
              "<div id=\"df-acfb6d3e-5ce4-4c45-8492-33de697d25a6\">\n",
              "  <button class=\"colab-df-quickchart\" onclick=\"quickchart('df-acfb6d3e-5ce4-4c45-8492-33de697d25a6')\"\n",
              "            title=\"Suggest charts\"\n",
              "            style=\"display:none;\">\n",
              "\n",
              "<svg xmlns=\"http://www.w3.org/2000/svg\" height=\"24px\"viewBox=\"0 0 24 24\"\n",
              "     width=\"24px\">\n",
              "    <g>\n",
              "        <path d=\"M19 3H5c-1.1 0-2 .9-2 2v14c0 1.1.9 2 2 2h14c1.1 0 2-.9 2-2V5c0-1.1-.9-2-2-2zM9 17H7v-7h2v7zm4 0h-2V7h2v10zm4 0h-2v-4h2v4z\"/>\n",
              "    </g>\n",
              "</svg>\n",
              "  </button>\n",
              "\n",
              "<style>\n",
              "  .colab-df-quickchart {\n",
              "      --bg-color: #E8F0FE;\n",
              "      --fill-color: #1967D2;\n",
              "      --hover-bg-color: #E2EBFA;\n",
              "      --hover-fill-color: #174EA6;\n",
              "      --disabled-fill-color: #AAA;\n",
              "      --disabled-bg-color: #DDD;\n",
              "  }\n",
              "\n",
              "  [theme=dark] .colab-df-quickchart {\n",
              "      --bg-color: #3B4455;\n",
              "      --fill-color: #D2E3FC;\n",
              "      --hover-bg-color: #434B5C;\n",
              "      --hover-fill-color: #FFFFFF;\n",
              "      --disabled-bg-color: #3B4455;\n",
              "      --disabled-fill-color: #666;\n",
              "  }\n",
              "\n",
              "  .colab-df-quickchart {\n",
              "    background-color: var(--bg-color);\n",
              "    border: none;\n",
              "    border-radius: 50%;\n",
              "    cursor: pointer;\n",
              "    display: none;\n",
              "    fill: var(--fill-color);\n",
              "    height: 32px;\n",
              "    padding: 0;\n",
              "    width: 32px;\n",
              "  }\n",
              "\n",
              "  .colab-df-quickchart:hover {\n",
              "    background-color: var(--hover-bg-color);\n",
              "    box-shadow: 0 1px 2px rgba(60, 64, 67, 0.3), 0 1px 3px 1px rgba(60, 64, 67, 0.15);\n",
              "    fill: var(--button-hover-fill-color);\n",
              "  }\n",
              "\n",
              "  .colab-df-quickchart-complete:disabled,\n",
              "  .colab-df-quickchart-complete:disabled:hover {\n",
              "    background-color: var(--disabled-bg-color);\n",
              "    fill: var(--disabled-fill-color);\n",
              "    box-shadow: none;\n",
              "  }\n",
              "\n",
              "  .colab-df-spinner {\n",
              "    border: 2px solid var(--fill-color);\n",
              "    border-color: transparent;\n",
              "    border-bottom-color: var(--fill-color);\n",
              "    animation:\n",
              "      spin 1s steps(1) infinite;\n",
              "  }\n",
              "\n",
              "  @keyframes spin {\n",
              "    0% {\n",
              "      border-color: transparent;\n",
              "      border-bottom-color: var(--fill-color);\n",
              "      border-left-color: var(--fill-color);\n",
              "    }\n",
              "    20% {\n",
              "      border-color: transparent;\n",
              "      border-left-color: var(--fill-color);\n",
              "      border-top-color: var(--fill-color);\n",
              "    }\n",
              "    30% {\n",
              "      border-color: transparent;\n",
              "      border-left-color: var(--fill-color);\n",
              "      border-top-color: var(--fill-color);\n",
              "      border-right-color: var(--fill-color);\n",
              "    }\n",
              "    40% {\n",
              "      border-color: transparent;\n",
              "      border-right-color: var(--fill-color);\n",
              "      border-top-color: var(--fill-color);\n",
              "    }\n",
              "    60% {\n",
              "      border-color: transparent;\n",
              "      border-right-color: var(--fill-color);\n",
              "    }\n",
              "    80% {\n",
              "      border-color: transparent;\n",
              "      border-right-color: var(--fill-color);\n",
              "      border-bottom-color: var(--fill-color);\n",
              "    }\n",
              "    90% {\n",
              "      border-color: transparent;\n",
              "      border-bottom-color: var(--fill-color);\n",
              "    }\n",
              "  }\n",
              "</style>\n",
              "\n",
              "  <script>\n",
              "    async function quickchart(key) {\n",
              "      const quickchartButtonEl =\n",
              "        document.querySelector('#' + key + ' button');\n",
              "      quickchartButtonEl.disabled = true;  // To prevent multiple clicks.\n",
              "      quickchartButtonEl.classList.add('colab-df-spinner');\n",
              "      try {\n",
              "        const charts = await google.colab.kernel.invokeFunction(\n",
              "            'suggestCharts', [key], {});\n",
              "      } catch (error) {\n",
              "        console.error('Error during call to suggestCharts:', error);\n",
              "      }\n",
              "      quickchartButtonEl.classList.remove('colab-df-spinner');\n",
              "      quickchartButtonEl.classList.add('colab-df-quickchart-complete');\n",
              "    }\n",
              "    (() => {\n",
              "      let quickchartButtonEl =\n",
              "        document.querySelector('#df-acfb6d3e-5ce4-4c45-8492-33de697d25a6 button');\n",
              "      quickchartButtonEl.style.display =\n",
              "        google.colab.kernel.accessAllowed ? 'block' : 'none';\n",
              "    })();\n",
              "  </script>\n",
              "</div>\n",
              "\n",
              "    </div>\n",
              "  </div>\n"
            ],
            "application/vnd.google.colaboratory.intrinsic+json": {
              "type": "dataframe",
              "variable_name": "df",
              "summary": "{\n  \"name\": \"df\",\n  \"rows\": 40432,\n  \"fields\": [\n    {\n      \"column\": \"category\",\n      \"properties\": {\n        \"dtype\": \"category\",\n        \"num_unique_values\": 10,\n        \"samples\": [\n          \"Toys_and_Games_5\",\n          \"Sports_and_Outdoors_5\",\n          \"Pet_Supplies_5\"\n        ],\n        \"semantic_type\": \"\",\n        \"description\": \"\"\n      }\n    },\n    {\n      \"column\": \"rating\",\n      \"properties\": {\n        \"dtype\": \"number\",\n        \"std\": 1,\n        \"min\": 1,\n        \"max\": 5,\n        \"num_unique_values\": 5,\n        \"samples\": [\n          1,\n          4,\n          3\n        ],\n        \"semantic_type\": \"\",\n        \"description\": \"\"\n      }\n    },\n    {\n      \"column\": \"label\",\n      \"properties\": {\n        \"dtype\": \"category\",\n        \"num_unique_values\": 2,\n        \"samples\": [\n          \"OR\",\n          \"CG\"\n        ],\n        \"semantic_type\": \"\",\n        \"description\": \"\"\n      }\n    },\n    {\n      \"column\": \"text_\",\n      \"properties\": {\n        \"dtype\": \"string\",\n        \"num_unique_values\": 40412,\n        \"samples\": [\n          \"It works well with my old ones, as long as you keep your hands on the handle and the other two fingers on the front of the switch.\",\n          \"I've not played the adult version of Cashflow so can't make a comparison but this game does a good job of teaching a basic tenet from the Rich Dad series: amass sources of passive income!  I bought this to play with my six year old because he's very interested in money and investing.  I thought this might be a good introduction to some basic concepts - and I believe it is a good introduction.  The instructions are not great, good enough but not great.  The instructions describe that you become a winner when your passive income exceeds your expenses - but there isn't really a winner of the game.  Small nuance but each individual \\\"wins\\\" by having passive income exceed expenses but the instructions don't state the first one to get there wins.\\n\\nEach player gets a \\\"financial statement\\\" as their game card.  During play, each player gains passive income sources and expenses.  The players keep track of their passive income vs expenses on the financial statement.  When your passive income exceeds expenses... you win!  The game does a good job of reinforcing this concept and also does a good job providing examples of passive income sources (rental property, owning a business, etc.).  It's at a pretty basic level so understandable for kids; even my six year old understands the game well enough to be able to formulate a strategy or predict what he needs on the next turn in order to win.\\n\\nWould recommend as a basic concept teaching tool.  And it's a fun game, too!\"\n        ],\n        \"semantic_type\": \"\",\n        \"description\": \"\"\n      }\n    }\n  ]\n}"
            }
          },
          "metadata": {},
          "execution_count": 6
        }
      ],
      "source": [
        "df = pd.read_csv('/content/fake reviews data.csv')\n",
        "df.head()"
      ]
    },
    {
      "cell_type": "code",
      "execution_count": null,
      "metadata": {
        "colab": {
          "base_uri": "https://localhost:8080/"
        },
        "id": "TR851lR_AEAu",
        "outputId": "c8b3dd16-0d49-4198-b116-a1092d5fdd8d"
      },
      "outputs": [
        {
          "output_type": "stream",
          "name": "stderr",
          "text": [
            "[nltk_data] Downloading package stopwords to /root/nltk_data...\n",
            "[nltk_data]   Unzipping corpora/stopwords.zip.\n"
          ]
        },
        {
          "output_type": "execute_result",
          "data": {
            "text/plain": [
              "True"
            ]
          },
          "metadata": {},
          "execution_count": 7
        }
      ],
      "source": [
        "import nltk\n",
        "nltk.download('stopwords')"
      ]
    },
    {
      "cell_type": "code",
      "execution_count": null,
      "metadata": {
        "colab": {
          "base_uri": "https://localhost:8080/"
        },
        "id": "dHCG4A78AqRA",
        "outputId": "a4ad05e2-ec3b-4323-86fe-2a233c0e05a5"
      },
      "outputs": [
        {
          "output_type": "execute_result",
          "data": {
            "text/plain": [
              "category    0\n",
              "rating      0\n",
              "label       0\n",
              "text_       0\n",
              "dtype: int64"
            ]
          },
          "metadata": {},
          "execution_count": 8
        }
      ],
      "source": [
        "df.isnull().sum()"
      ]
    },
    {
      "cell_type": "code",
      "execution_count": null,
      "metadata": {
        "colab": {
          "base_uri": "https://localhost:8080/"
        },
        "id": "0oGDV55XAzGJ",
        "outputId": "e2fd0790-7cf9-43c7-c1be-6718773984ae"
      },
      "outputs": [
        {
          "output_type": "stream",
          "name": "stdout",
          "text": [
            "<class 'pandas.core.frame.DataFrame'>\n",
            "RangeIndex: 40432 entries, 0 to 40431\n",
            "Data columns (total 4 columns):\n",
            " #   Column    Non-Null Count  Dtype \n",
            "---  ------    --------------  ----- \n",
            " 0   category  40432 non-null  object\n",
            " 1   rating    40432 non-null  int64 \n",
            " 2   label     40432 non-null  object\n",
            " 3   text_     40432 non-null  object\n",
            "dtypes: int64(1), object(3)\n",
            "memory usage: 1.2+ MB\n"
          ]
        }
      ],
      "source": [
        "df.info()"
      ]
    },
    {
      "cell_type": "code",
      "execution_count": null,
      "metadata": {
        "colab": {
          "base_uri": "https://localhost:8080/",
          "height": 300
        },
        "id": "fpgW_3m_A1hA",
        "outputId": "2d50c203-2fe2-4018-ec8e-17e5638935d2"
      },
      "outputs": [
        {
          "output_type": "execute_result",
          "data": {
            "text/plain": [
              "             rating\n",
              "count  40432.000000\n",
              "mean       4.256579\n",
              "std        1.144354\n",
              "min        1.000000\n",
              "25%        4.000000\n",
              "50%        5.000000\n",
              "75%        5.000000\n",
              "max        5.000000"
            ],
            "text/html": [
              "\n",
              "  <div id=\"df-a271e5cb-9d53-42d2-8792-eead92afb980\" class=\"colab-df-container\">\n",
              "    <div>\n",
              "<style scoped>\n",
              "    .dataframe tbody tr th:only-of-type {\n",
              "        vertical-align: middle;\n",
              "    }\n",
              "\n",
              "    .dataframe tbody tr th {\n",
              "        vertical-align: top;\n",
              "    }\n",
              "\n",
              "    .dataframe thead th {\n",
              "        text-align: right;\n",
              "    }\n",
              "</style>\n",
              "<table border=\"1\" class=\"dataframe\">\n",
              "  <thead>\n",
              "    <tr style=\"text-align: right;\">\n",
              "      <th></th>\n",
              "      <th>rating</th>\n",
              "    </tr>\n",
              "  </thead>\n",
              "  <tbody>\n",
              "    <tr>\n",
              "      <th>count</th>\n",
              "      <td>40432.000000</td>\n",
              "    </tr>\n",
              "    <tr>\n",
              "      <th>mean</th>\n",
              "      <td>4.256579</td>\n",
              "    </tr>\n",
              "    <tr>\n",
              "      <th>std</th>\n",
              "      <td>1.144354</td>\n",
              "    </tr>\n",
              "    <tr>\n",
              "      <th>min</th>\n",
              "      <td>1.000000</td>\n",
              "    </tr>\n",
              "    <tr>\n",
              "      <th>25%</th>\n",
              "      <td>4.000000</td>\n",
              "    </tr>\n",
              "    <tr>\n",
              "      <th>50%</th>\n",
              "      <td>5.000000</td>\n",
              "    </tr>\n",
              "    <tr>\n",
              "      <th>75%</th>\n",
              "      <td>5.000000</td>\n",
              "    </tr>\n",
              "    <tr>\n",
              "      <th>max</th>\n",
              "      <td>5.000000</td>\n",
              "    </tr>\n",
              "  </tbody>\n",
              "</table>\n",
              "</div>\n",
              "    <div class=\"colab-df-buttons\">\n",
              "\n",
              "  <div class=\"colab-df-container\">\n",
              "    <button class=\"colab-df-convert\" onclick=\"convertToInteractive('df-a271e5cb-9d53-42d2-8792-eead92afb980')\"\n",
              "            title=\"Convert this dataframe to an interactive table.\"\n",
              "            style=\"display:none;\">\n",
              "\n",
              "  <svg xmlns=\"http://www.w3.org/2000/svg\" height=\"24px\" viewBox=\"0 -960 960 960\">\n",
              "    <path d=\"M120-120v-720h720v720H120Zm60-500h600v-160H180v160Zm220 220h160v-160H400v160Zm0 220h160v-160H400v160ZM180-400h160v-160H180v160Zm440 0h160v-160H620v160ZM180-180h160v-160H180v160Zm440 0h160v-160H620v160Z\"/>\n",
              "  </svg>\n",
              "    </button>\n",
              "\n",
              "  <style>\n",
              "    .colab-df-container {\n",
              "      display:flex;\n",
              "      gap: 12px;\n",
              "    }\n",
              "\n",
              "    .colab-df-convert {\n",
              "      background-color: #E8F0FE;\n",
              "      border: none;\n",
              "      border-radius: 50%;\n",
              "      cursor: pointer;\n",
              "      display: none;\n",
              "      fill: #1967D2;\n",
              "      height: 32px;\n",
              "      padding: 0 0 0 0;\n",
              "      width: 32px;\n",
              "    }\n",
              "\n",
              "    .colab-df-convert:hover {\n",
              "      background-color: #E2EBFA;\n",
              "      box-shadow: 0px 1px 2px rgba(60, 64, 67, 0.3), 0px 1px 3px 1px rgba(60, 64, 67, 0.15);\n",
              "      fill: #174EA6;\n",
              "    }\n",
              "\n",
              "    .colab-df-buttons div {\n",
              "      margin-bottom: 4px;\n",
              "    }\n",
              "\n",
              "    [theme=dark] .colab-df-convert {\n",
              "      background-color: #3B4455;\n",
              "      fill: #D2E3FC;\n",
              "    }\n",
              "\n",
              "    [theme=dark] .colab-df-convert:hover {\n",
              "      background-color: #434B5C;\n",
              "      box-shadow: 0px 1px 3px 1px rgba(0, 0, 0, 0.15);\n",
              "      filter: drop-shadow(0px 1px 2px rgba(0, 0, 0, 0.3));\n",
              "      fill: #FFFFFF;\n",
              "    }\n",
              "  </style>\n",
              "\n",
              "    <script>\n",
              "      const buttonEl =\n",
              "        document.querySelector('#df-a271e5cb-9d53-42d2-8792-eead92afb980 button.colab-df-convert');\n",
              "      buttonEl.style.display =\n",
              "        google.colab.kernel.accessAllowed ? 'block' : 'none';\n",
              "\n",
              "      async function convertToInteractive(key) {\n",
              "        const element = document.querySelector('#df-a271e5cb-9d53-42d2-8792-eead92afb980');\n",
              "        const dataTable =\n",
              "          await google.colab.kernel.invokeFunction('convertToInteractive',\n",
              "                                                    [key], {});\n",
              "        if (!dataTable) return;\n",
              "\n",
              "        const docLinkHtml = 'Like what you see? Visit the ' +\n",
              "          '<a target=\"_blank\" href=https://colab.research.google.com/notebooks/data_table.ipynb>data table notebook</a>'\n",
              "          + ' to learn more about interactive tables.';\n",
              "        element.innerHTML = '';\n",
              "        dataTable['output_type'] = 'display_data';\n",
              "        await google.colab.output.renderOutput(dataTable, element);\n",
              "        const docLink = document.createElement('div');\n",
              "        docLink.innerHTML = docLinkHtml;\n",
              "        element.appendChild(docLink);\n",
              "      }\n",
              "    </script>\n",
              "  </div>\n",
              "\n",
              "\n",
              "<div id=\"df-e8fd96cc-5670-44a0-aec4-9da313c99aed\">\n",
              "  <button class=\"colab-df-quickchart\" onclick=\"quickchart('df-e8fd96cc-5670-44a0-aec4-9da313c99aed')\"\n",
              "            title=\"Suggest charts\"\n",
              "            style=\"display:none;\">\n",
              "\n",
              "<svg xmlns=\"http://www.w3.org/2000/svg\" height=\"24px\"viewBox=\"0 0 24 24\"\n",
              "     width=\"24px\">\n",
              "    <g>\n",
              "        <path d=\"M19 3H5c-1.1 0-2 .9-2 2v14c0 1.1.9 2 2 2h14c1.1 0 2-.9 2-2V5c0-1.1-.9-2-2-2zM9 17H7v-7h2v7zm4 0h-2V7h2v10zm4 0h-2v-4h2v4z\"/>\n",
              "    </g>\n",
              "</svg>\n",
              "  </button>\n",
              "\n",
              "<style>\n",
              "  .colab-df-quickchart {\n",
              "      --bg-color: #E8F0FE;\n",
              "      --fill-color: #1967D2;\n",
              "      --hover-bg-color: #E2EBFA;\n",
              "      --hover-fill-color: #174EA6;\n",
              "      --disabled-fill-color: #AAA;\n",
              "      --disabled-bg-color: #DDD;\n",
              "  }\n",
              "\n",
              "  [theme=dark] .colab-df-quickchart {\n",
              "      --bg-color: #3B4455;\n",
              "      --fill-color: #D2E3FC;\n",
              "      --hover-bg-color: #434B5C;\n",
              "      --hover-fill-color: #FFFFFF;\n",
              "      --disabled-bg-color: #3B4455;\n",
              "      --disabled-fill-color: #666;\n",
              "  }\n",
              "\n",
              "  .colab-df-quickchart {\n",
              "    background-color: var(--bg-color);\n",
              "    border: none;\n",
              "    border-radius: 50%;\n",
              "    cursor: pointer;\n",
              "    display: none;\n",
              "    fill: var(--fill-color);\n",
              "    height: 32px;\n",
              "    padding: 0;\n",
              "    width: 32px;\n",
              "  }\n",
              "\n",
              "  .colab-df-quickchart:hover {\n",
              "    background-color: var(--hover-bg-color);\n",
              "    box-shadow: 0 1px 2px rgba(60, 64, 67, 0.3), 0 1px 3px 1px rgba(60, 64, 67, 0.15);\n",
              "    fill: var(--button-hover-fill-color);\n",
              "  }\n",
              "\n",
              "  .colab-df-quickchart-complete:disabled,\n",
              "  .colab-df-quickchart-complete:disabled:hover {\n",
              "    background-color: var(--disabled-bg-color);\n",
              "    fill: var(--disabled-fill-color);\n",
              "    box-shadow: none;\n",
              "  }\n",
              "\n",
              "  .colab-df-spinner {\n",
              "    border: 2px solid var(--fill-color);\n",
              "    border-color: transparent;\n",
              "    border-bottom-color: var(--fill-color);\n",
              "    animation:\n",
              "      spin 1s steps(1) infinite;\n",
              "  }\n",
              "\n",
              "  @keyframes spin {\n",
              "    0% {\n",
              "      border-color: transparent;\n",
              "      border-bottom-color: var(--fill-color);\n",
              "      border-left-color: var(--fill-color);\n",
              "    }\n",
              "    20% {\n",
              "      border-color: transparent;\n",
              "      border-left-color: var(--fill-color);\n",
              "      border-top-color: var(--fill-color);\n",
              "    }\n",
              "    30% {\n",
              "      border-color: transparent;\n",
              "      border-left-color: var(--fill-color);\n",
              "      border-top-color: var(--fill-color);\n",
              "      border-right-color: var(--fill-color);\n",
              "    }\n",
              "    40% {\n",
              "      border-color: transparent;\n",
              "      border-right-color: var(--fill-color);\n",
              "      border-top-color: var(--fill-color);\n",
              "    }\n",
              "    60% {\n",
              "      border-color: transparent;\n",
              "      border-right-color: var(--fill-color);\n",
              "    }\n",
              "    80% {\n",
              "      border-color: transparent;\n",
              "      border-right-color: var(--fill-color);\n",
              "      border-bottom-color: var(--fill-color);\n",
              "    }\n",
              "    90% {\n",
              "      border-color: transparent;\n",
              "      border-bottom-color: var(--fill-color);\n",
              "    }\n",
              "  }\n",
              "</style>\n",
              "\n",
              "  <script>\n",
              "    async function quickchart(key) {\n",
              "      const quickchartButtonEl =\n",
              "        document.querySelector('#' + key + ' button');\n",
              "      quickchartButtonEl.disabled = true;  // To prevent multiple clicks.\n",
              "      quickchartButtonEl.classList.add('colab-df-spinner');\n",
              "      try {\n",
              "        const charts = await google.colab.kernel.invokeFunction(\n",
              "            'suggestCharts', [key], {});\n",
              "      } catch (error) {\n",
              "        console.error('Error during call to suggestCharts:', error);\n",
              "      }\n",
              "      quickchartButtonEl.classList.remove('colab-df-spinner');\n",
              "      quickchartButtonEl.classList.add('colab-df-quickchart-complete');\n",
              "    }\n",
              "    (() => {\n",
              "      let quickchartButtonEl =\n",
              "        document.querySelector('#df-e8fd96cc-5670-44a0-aec4-9da313c99aed button');\n",
              "      quickchartButtonEl.style.display =\n",
              "        google.colab.kernel.accessAllowed ? 'block' : 'none';\n",
              "    })();\n",
              "  </script>\n",
              "</div>\n",
              "\n",
              "    </div>\n",
              "  </div>\n"
            ],
            "application/vnd.google.colaboratory.intrinsic+json": {
              "type": "dataframe",
              "summary": "{\n  \"name\": \"df\",\n  \"rows\": 8,\n  \"fields\": [\n    {\n      \"column\": \"rating\",\n      \"properties\": {\n        \"dtype\": \"number\",\n        \"std\": 14293.587843843368,\n        \"min\": 1.0,\n        \"max\": 40432.0,\n        \"num_unique_values\": 6,\n        \"samples\": [\n          40432.0,\n          4.256578947368421,\n          5.0\n        ],\n        \"semantic_type\": \"\",\n        \"description\": \"\"\n      }\n    }\n  ]\n}"
            }
          },
          "metadata": {},
          "execution_count": 10
        }
      ],
      "source": [
        "df.describe()\n"
      ]
    },
    {
      "cell_type": "code",
      "execution_count": null,
      "metadata": {
        "colab": {
          "base_uri": "https://localhost:8080/"
        },
        "id": "Vx5meufbA4Ll",
        "outputId": "235221c6-94e1-431a-b477-3a64503802ef"
      },
      "outputs": [
        {
          "output_type": "execute_result",
          "data": {
            "text/plain": [
              "(40432, 4)"
            ]
          },
          "metadata": {},
          "execution_count": 11
        }
      ],
      "source": [
        "df.shape"
      ]
    },
    {
      "cell_type": "code",
      "execution_count": null,
      "metadata": {
        "colab": {
          "base_uri": "https://localhost:8080/"
        },
        "id": "MMOcFPqNA6Jw",
        "outputId": "af875a19-fdbb-4864-fd64-04d786306dc3"
      },
      "outputs": [
        {
          "output_type": "execute_result",
          "data": {
            "text/plain": [
              "rating\n",
              "5    24559\n",
              "4     7965\n",
              "3     3786\n",
              "1     2155\n",
              "2     1967\n",
              "Name: count, dtype: int64"
            ]
          },
          "metadata": {},
          "execution_count": 12
        }
      ],
      "source": [
        "df['rating'].value_counts()"
      ]
    },
    {
      "cell_type": "code",
      "execution_count": null,
      "metadata": {
        "colab": {
          "base_uri": "https://localhost:8080/",
          "height": 707
        },
        "id": "AUiT6-FkA8TB",
        "outputId": "1e68d37f-1553-4126-d894-890313e144c9"
      },
      "outputs": [
        {
          "output_type": "display_data",
          "data": {
            "text/plain": [
              "<Figure size 1500x800 with 1 Axes>"
            ],
            "image/png": "[encoded data removed]"
          },
          "metadata": {}
        }
      ],
      "source": [
        "plt.figure(figsize=(15,8))\n",
        "labels = df['rating'].value_counts().keys()\n",
        "values = df['rating'].value_counts().values\n",
        "explode = (0.1,0,0,0,0)\n",
        "plt.pie(values,labels=labels,explode=explode,shadow=True,autopct='%1.1f%%')\n",
        "plt.title('Proportion of each rating',fontweight='bold',fontsize=25,pad=20,color='crimson')\n",
        "plt.show()"
      ]
    },
    {
      "cell_type": "code",
      "execution_count": null,
      "metadata": {
        "colab": {
          "base_uri": "https://localhost:8080/"
        },
        "id": "9k0cZw0aBAZ3",
        "outputId": "dd110d74-b109-4eaf-ac16-725b949fc55f"
      },
      "outputs": [
        {
          "output_type": "execute_result",
          "data": {
            "text/plain": [
              "label\n",
              "CG    20216\n",
              "OR    20216\n",
              "Name: count, dtype: int64"
            ]
          },
          "metadata": {},
          "execution_count": 14
        }
      ],
      "source": [
        "df['label'].value_counts()"
      ]
    },
    {
      "cell_type": "code",
      "execution_count": null,
      "metadata": {
        "id": "HjsnCm9hBC_v"
      },
      "outputs": [],
      "source": [
        "df = pd.read_csv('/content/fake reviews data.csv', names=['category', 'rating', 'label', 'text'])\n",
        "df['text'] = df['text'].str.replace('\\n', ' ')\n",
        "df['target'] = np.where(df['label']=='CG', 1, 0)"
      ]
    },
    {
      "cell_type": "code",
      "execution_count": null,
      "metadata": {
        "colab": {
          "base_uri": "https://localhost:8080/"
        },
        "id": "ZPD08vfEBEsg",
        "outputId": "ba9acbd1-0185-4c69-fd57-6e06d05b5f8a"
      },
      "outputs": [
        {
          "output_type": "stream",
          "name": "stdout",
          "text": [
            "target\n",
            "0    20217\n",
            "1    20216\n",
            "Name: count, dtype: int64\n"
          ]
        }
      ],
      "source": [
        "Target_counts = df['target'].value_counts()\n",
        "print(Target_counts)"
      ]
    },
    {
      "cell_type": "code",
      "execution_count": null,
      "metadata": {
        "colab": {
          "base_uri": "https://localhost:8080/",
          "height": 559
        },
        "id": "YFFMYFseBIPR",
        "outputId": "4dd36b71-d9d8-4a49-e3d9-490d4bfab548"
      },
      "outputs": [
        {
          "output_type": "display_data",
          "data": {
            "text/plain": [
              "<Figure size 800x600 with 1 Axes>"
            ],
            "image/png": "[encoded data removed]"
          },
          "metadata": {}
        }
      ],
      "source": [
        "import matplotlib.pyplot as plt\n",
        "plt.figure(figsize=(8, 6))\n",
        "Target_counts.plot(kind='bar', color='skyblue')\n",
        "plt.title('Class Label Counts')\n",
        "plt.xlabel('Class Label')\n",
        "plt.ylabel('Count')\n",
        "plt.show()"
      ]
    },
    {
      "cell_type": "code",
      "execution_count": null,
      "metadata": {
        "id": "rUDnPi_yBJK3"
      },
      "outputs": [],
      "source": [
        "w"
      ]
    },
    {
      "cell_type": "code",
      "execution_count": null,
      "metadata": {
        "colab": {
          "base_uri": "https://localhost:8080/"
        },
        "id": "AzLKqmHWBVEt",
        "outputId": "2e9debc2-3781-42ed-8947-bfed80235fcc"
      },
      "outputs": [
        {
          "output_type": "stream",
          "name": "stdout",
          "text": [
            "Accuracy: 0.8454309385433412\n",
            "Classification Report:\n",
            "               precision    recall  f1-score   support\n",
            "\n",
            "          CG       0.80      0.92      0.85      4016\n",
            "          OR       0.90      0.78      0.83      4071\n",
            "\n",
            "    accuracy                           0.85      8087\n",
            "   macro avg       0.85      0.85      0.84      8087\n",
            "weighted avg       0.85      0.85      0.84      8087\n",
            "\n"
          ]
        }
      ],
      "source": [
        "# Train-Test Split\n",
        "X_train, X_test, y_train, y_test = train_test_split(df['processed_text'], df['label'], test_size=0.2, random_state=42)\n",
        "\n",
        "# Create a Pipeline with Vectorizer and Random Forest Classifier\n",
        "text_clf = Pipeline([\n",
        "    ('vectorizer', CountVectorizer()),\n",
        "    ('clf', RandomForestClassifier())\n",
        "])\n",
        "\n",
        "\n",
        "\n",
        "# Fit the Model and Evaluate\n",
        "text_clf.fit(X_train, y_train)\n",
        "\n",
        "# Predictions\n",
        "y_pred = text_clf.predict(X_test)\n",
        "\n",
        "# Evaluation\n",
        "accuracy = accuracy_score(y_test, y_pred)\n",
        "print(\"Accuracy:\", accuracy)\n",
        "\n",
        "classification_rep = classification_report(y_test, y_pred)\n",
        "print(\"Classification Report:\\n\", classification_rep)"
      ]
    },
    {
      "cell_type": "code",
      "execution_count": null,
      "metadata": {
        "colab": {
          "base_uri": "https://localhost:8080/",
          "height": 499
        },
        "id": "R6DXS1bkviTq",
        "outputId": "6fdebfdc-d167-449a-ae6f-f0b0e1f7df3a"
      },
      "outputs": [
        {
          "output_type": "stream",
          "name": "stdout",
          "text": [
            "Confusion Matrix:\n",
            " [[3678  338]\n",
            " [ 912 3159]]\n"
          ]
        },
        {
          "output_type": "execute_result",
          "data": {
            "text/plain": [
              "<Axes: >"
            ]
          },
          "metadata": {},
          "execution_count": 20
        },
        {
          "output_type": "display_data",
          "data": {
            "text/plain": [
              "<Figure size 640x480 with 2 Axes>"
            ],
            "image/png": "[encoded data removed]"
          },
          "metadata": {}
        }
      ],
      "source": [
        "# Print confusion matrix\n",
        "conf_matrix = confusion_matrix(y_test, y_pred)\n",
        "print(\"Confusion Matrix:\\n\", conf_matrix)\n",
        "sns.heatmap(conf_matrix, annot=True, cmap='RdBu_r')"
      ]
    },
    {
      "cell_type": "code",
      "execution_count": null,
      "metadata": {
        "colab": {
          "base_uri": "https://localhost:8080/",
          "height": 564
        },
        "id": "lra21i0DRIT2",
        "outputId": "2f1eded6-e35b-4f42-d2e6-c821f477a591"
      },
      "outputs": [
        {
          "output_type": "display_data",
          "data": {
            "text/plain": [
              "<Figure size 800x600 with 1 Axes>"
            ],
            "image/png": "[encoded data removed]"
          },
          "metadata": {}
        }
      ],
      "source": [
        "from sklearn.metrics import roc_curve, auc, f1_score\n",
        "import numpy as np\n",
        "import matplotlib.pyplot as plt\n",
        "\n",
        "# Predict probabilities\n",
        "y_pred_probs = text_clf.predict_proba(X_test)\n",
        "\n",
        "\n",
        "\n",
        "# Plot ROC curve for class 'CG'\n",
        "fpr_cg, tpr_cg, _ = roc_curve(y_test == 'CG', y_pred_probs[:, 0], pos_label=True)\n",
        "roc_auc_cg = auc(fpr_cg, tpr_cg)\n",
        "\n",
        "# Plot ROC curve for class 'OR'\n",
        "fpr_or, tpr_or, _ = roc_curve(y_test == 'OR', y_pred_probs[:, 1], pos_label=True)\n",
        "roc_auc_or = auc(fpr_or, tpr_or)\n",
        "\n",
        "# Plot ROC curves\n",
        "plt.figure(figsize=(8, 6))\n",
        "plt.plot(fpr_cg, tpr_cg, color='darkorange', lw=2, label='ROC curve (area = %0.2f) for class CG' % roc_auc_cg)\n",
        "plt.plot(fpr_or, tpr_or, color='darkgreen', lw=2, label='ROC curve (area = %0.2f) for class OR' % roc_auc_or)\n",
        "plt.plot([0, 1], [0, 1], color='navy', lw=2, linestyle='--')\n",
        "plt.xlim([0.0, 1.0])\n",
        "plt.ylim([0.0, 1.05])\n",
        "plt.xlabel('False Positive Rate')\n",
        "plt.ylabel('True Positive Rate')\n",
        "plt.title('Receiver Operating Characteristic (ROC) Curve')\n",
        "plt.legend(loc=\"lower right\")\n",
        "plt.show()\n",
        "\n",
        "\n"
      ]
    },
    {
      "cell_type": "code",
      "execution_count": null,
      "metadata": {
        "colab": {
          "base_uri": "https://localhost:8080/",
          "height": 564
        },
        "id": "w01AXP9RR5Wx",
        "outputId": "27392a93-c2e0-4cb7-82f6-eec2fb214f89"
      },
      "outputs": [
        {
          "output_type": "display_data",
          "data": {
            "text/plain": [
              "<Figure size 800x600 with 1 Axes>"
            ],
            "image/png": "[encoded data removed]"
          },
          "metadata": {}
        }
      ],
      "source": [
        "# Compute F1-score for each class\n",
        "f1_scores = f1_score(y_test, y_pred, labels=['CG', 'OR'], average=None)\n",
        "\n",
        "# Compute micro-average F1-score\n",
        "f1_micro = f1_score(y_test, y_pred, average='micro')\n",
        "\n",
        "# Compute macro-average F1-score\n",
        "f1_macro = f1_score(y_test, y_pred, average='macro')\n",
        "# # Plot F1-scores\n",
        "plt.figure(figsize=(8, 6))\n",
        "labels = ['CG', 'OR', 'Micro-Average', 'Macro-Average']\n",
        "f1_scores = np.append(f1_scores, [f1_micro, f1_macro])\n",
        "plt.bar(labels, f1_scores, color=['blue', 'green', 'orange', 'red'])\n",
        "plt.xlabel('Class')\n",
        "plt.ylabel('F1-Score')\n",
        "plt.title('F1-Scores')\n",
        "plt.ylim(0, 1)\n",
        "plt.show()"
      ]
    },
    {
      "cell_type": "code",
      "execution_count": null,
      "metadata": {
        "colab": {
          "base_uri": "https://localhost:8080/",
          "height": 564
        },
        "id": "7e8WD3LbSJK5",
        "outputId": "4073f422-0300-46f7-9f96-3051ca0209f3"
      },
      "outputs": [
        {
          "output_type": "display_data",
          "data": {
            "text/plain": [
              "<Figure size 800x600 with 1 Axes>"
            ],
            "image/png": "[encoded data removed]"
          },
          "metadata": {}
        }
      ],
      "source": [
        "from sklearn.metrics import precision_recall_curve\n",
        "import matplotlib.pyplot as plt\n",
        "\n",
        "# Compute precision and recall for each class\n",
        "precision_cg, recall_cg, _ = precision_recall_curve(y_test == 'CG', y_pred_probs[:, 0], pos_label=True)\n",
        "precision_or, recall_or, _ = precision_recall_curve(y_test == 'OR', y_pred_probs[:, 1], pos_label=True)\n",
        "\n",
        "# Plot precision-recall curve for class 'CG'\n",
        "plt.figure(figsize=(8, 6))\n",
        "plt.plot(recall_cg, precision_cg, color='blue', lw=2, label='Precision-Recall curve for class CG')\n",
        "\n",
        "# Plot precision-recall curve for class 'OR'\n",
        "plt.plot(recall_or, precision_or, color='green', lw=2, label='Precision-Recall curve for class OR')\n",
        "\n",
        "# Add labels and title\n",
        "plt.xlabel('Recall')\n",
        "plt.ylabel('Precision')\n",
        "plt.title('Precision-Recall Curve')\n",
        "plt.legend(loc=\"lower left\")\n",
        "plt.show()\n"
      ]
    },
    {
      "cell_type": "code",
      "execution_count": null,
      "metadata": {
        "id": "J4A2k3TrCWvD"
      },
      "outputs": [],
      "source": [
        "from sklearn.svm import SVC\n",
        "# Train-Test Split\n",
        "X_train, X_test, y_train, y_test = train_test_split(df['processed_text'], df['label'], test_size=0.2, random_state=42)\n",
        "\n",
        "# Create a Pipeline with Vectorizer and Random Forest Classifier\n",
        "text_clf = Pipeline([\n",
        "        ('vectorizer', CountVectorizer(ngram_range=(1, 2))),\n",
        "        ('clf', SVC(kernel='linear'))  # You can adjust the kernel and other parameters as needed\n",
        "    ])\n",
        "\n",
        "\n",
        "\n",
        "# Fit the Model and Evaluate\n",
        "text_clf.fit(X_train, y_train)\n",
        "\n",
        "# Predictions\n",
        "y_pred = text_clf.predict(X_test)\n",
        "\n",
        "# Evaluation\n",
        "accuracy = accuracy_score(y_test, y_pred)\n",
        "print(\"Accuracy:\", accuracy)\n",
        "\n",
        "classification_rep = classification_report(y_test, y_pred)\n",
        "print(\"Classification Report:\\n\", classification_rep)\n"
      ]
    },
    {
      "cell_type": "code",
      "execution_count": null,
      "metadata": {
        "id": "a6pnatObSejG"
      },
      "outputs": [],
      "source": [
        "# Print confusion matrix\n",
        "conf_matrix = confusion_matrix(y_test, y_pred)\n",
        "print(\"Confusion Matrix:\\n\", conf_matrix)\n",
        "sns.heatmap(conf_matrix, annot=True, cmap='RdBu_r')"
      ]
    },
    {
      "cell_type": "code",
      "execution_count": null,
      "metadata": {
        "id": "D3YfAPt4R36-"
      },
      "outputs": [],
      "source": [
        "# from sklearn.metrics import roc_curve, auc, f1_score\n",
        "# import numpy as np\n",
        "# import matplotlib.pyplot as plt\n",
        "\n",
        "# # Predict probabilities\n",
        "# y_pred_probs = text_clf.predict_proba(X_test)\n",
        "\n",
        "\n",
        "\n",
        "# # Plot ROC curve for class 'CG'\n",
        "# fpr_cg, tpr_cg, _ = roc_curve(y_test == 'CG', y_pred_probs[:, 0], pos_label=True)\n",
        "# roc_auc_cg = auc(fpr_cg, tpr_cg)\n",
        "\n",
        "# # Plot ROC curve for class 'OR'\n",
        "# fpr_or, tpr_or, _ = roc_curve(y_test == 'OR', y_pred_probs[:, 1], pos_label=True)\n",
        "# roc_auc_or = auc(fpr_or, tpr_or)\n",
        "\n",
        "# # Plot ROC curves\n",
        "# plt.figure(figsize=(8, 6))\n",
        "# plt.plot(fpr_cg, tpr_cg, color='darkorange', lw=2, label='ROC curve (area = %0.2f) for class CG' % roc_auc_cg)\n",
        "# plt.plot(fpr_or, tpr_or, color='darkgreen', lw=2, label='ROC curve (area = %0.2f) for class OR' % roc_auc_or)\n",
        "# plt.plot([0, 1], [0, 1], color='navy', lw=2, linestyle='--')\n",
        "# plt.xlim([0.0, 1.0])\n",
        "# plt.ylim([0.0, 1.05])\n",
        "# plt.xlabel('False Positive Rate')\n",
        "# plt.ylabel('True Positive Rate')\n",
        "# plt.title('Receiver Operating Characteristic (ROC) Curve')\n",
        "# plt.legend(loc=\"lower right\")\n",
        "# plt.show()\n",
        "\n",
        "\n"
      ]
    },
    {
      "cell_type": "code",
      "execution_count": null,
      "metadata": {
        "id": "jExbRvdmYtoR"
      },
      "outputs": [],
      "source": [
        "from sklearn.preprocessing import LabelEncoder\n",
        "\n",
        "# Initialize LabelEncoder\n",
        "label_encoder = LabelEncoder()\n",
        "\n",
        "# Fit LabelEncoder to your target labels\n",
        "label_encoder.fit(y_train)\n",
        "\n",
        "# Transform target labels to numerical values\n",
        "y_test_encoded = label_encoder.transform(y_test)\n",
        "\n",
        "# Now y_test_encoded will contain numerical labels (0 and 1) instead of 'CG' and 'OR'\n",
        "\n",
        "# Compute ROC curve and ROC area\n",
        "fpr, tpr, _ = roc_curve(y_test_encoded, y_pred_probs)\n",
        "roc_auc = auc(fpr, tpr)\n",
        "\n",
        "# Plot ROC curve\n",
        "plt.figure(figsize=(8, 6))\n",
        "plt.plot(fpr, tpr, color='darkorange', lw=2, label='ROC curve (area = %0.2f)' % roc_auc)\n",
        "plt.plot([0, 1], [0, 1], color='navy', lw=2, linestyle='--')\n",
        "plt.xlim([0.0, 1.0])\n",
        "plt.ylim([0.0, 1.05])\n",
        "plt.xlabel('False Positive Rate')\n",
        "plt.ylabel('True Positive Rate')\n",
        "plt.title('Receiver Operating Characteristic (ROC) Curve')\n",
        "plt.legend(loc=\"lower right\")\n",
        "plt.show()\n"
      ]
    },
    {
      "cell_type": "code",
      "execution_count": null,
      "metadata": {
        "id": "P0z5RWNQYfYG"
      },
      "outputs": [],
      "source": [
        "# # Compute F1-score for each class\n",
        "# f1_scores = f1_score(y_test, y_pred, labels=['CG', 'OR'], average=None)\n",
        "\n",
        "# # Compute micro-average F1-score\n",
        "# f1_micro = f1_score(y_test, y_pred, average='micro')\n",
        "\n",
        "# # Compute macro-average F1-score\n",
        "# f1_macro = f1_score(y_test, y_pred, average='macro')\n",
        "# # # Plot F1-scores\n",
        "# plt.figure(figsize=(8, 6))\n",
        "# labels = ['CG', 'OR', 'Micro-Average', 'Macro-Average']\n",
        "# f1_scores = np.append(f1_scores, [f1_micro, f1_macro])\n",
        "# plt.bar(labels, f1_scores, color=['blue', 'green', 'orange', 'red'])\n",
        "# plt.xlabel('Class')\n",
        "# plt.ylabel('F1-Score')\n",
        "# plt.title('F1-Scores')\n",
        "# plt.ylim(0, 1)\n",
        "# plt.show()"
      ]
    },
    {
      "cell_type": "code",
      "execution_count": null,
      "metadata": {
        "id": "qAucCRrJYp-A"
      },
      "outputs": [],
      "source": [
        "from sklearn.metrics import precision_recall_curve\n",
        "import matplotlib.pyplot as plt\n",
        "\n",
        "# Compute precision and recall for each class\n",
        "precision_cg, recall_cg, _ = precision_recall_curve(y_test == 'CG', y_pred_probs[:, 0], pos_label=True)\n",
        "precision_or, recall_or, _ = precision_recall_curve(y_test == 'OR', y_pred_probs[:, 1], pos_label=True)\n",
        "\n",
        "# Plot precision-recall curve for class 'CG'\n",
        "plt.figure(figsize=(8, 6))\n",
        "plt.plot(recall_cg, precision_cg, color='blue', lw=2, label='Precision-Recall curve for class CG')\n",
        "\n",
        "# Plot precision-recall curve for class 'OR'\n",
        "plt.plot(recall_or, precision_or, color='green', lw=2, label='Precision-Recall curve for class OR')\n",
        "\n",
        "# Add labels and title\n",
        "plt.xlabel('Recall')\n",
        "plt.ylabel('Precision')\n",
        "plt.title('Precision-Recall Curve')\n",
        "plt.legend(loc=\"lower left\")\n",
        "plt.show()\n"
      ]
    },
    {
      "cell_type": "code",
      "execution_count": null,
      "metadata": {
        "id": "GekxzdDQDDWB"
      },
      "outputs": [],
      "source": [
        "from sklearn.naive_bayes import MultinomialNB\n",
        "# Create a Pipeline with Vectorizer and Multinomial Naive Bayes Classifier\n",
        "text_clf = Pipeline([\n",
        "        ('vectorizer', CountVectorizer(ngram_range=(1, 2))),\n",
        "        ('clf', MultinomialNB())\n",
        "    ])\n",
        "\n",
        "# Fit the Model and Evaluate\n",
        "text_clf.fit(X_train, y_train)\n",
        "\n",
        "# Predictions\n",
        "y_pred = text_clf.predict(X_test)\n",
        "\n",
        "# Evaluation\n",
        "accuracy = accuracy_score(y_test, y_pred)\n",
        "print(\"Accuracy:\", accuracy)\n",
        "\n",
        "classification_rep = classification_report(y_test, y_pred)\n",
        "print(\"Classification Report:\\n\", classification_rep)"
      ]
    },
    {
      "cell_type": "code",
      "execution_count": null,
      "metadata": {
        "id": "D5Mkcr7zZzyS"
      },
      "outputs": [],
      "source": [
        "# Print confusion matrix\n",
        "conf_matrix = confusion_matrix(y_test, y_pred)\n",
        "print(\"Confusion Matrix:\\n\", conf_matrix)\n",
        "sns.heatmap(conf_matrix, annot=True, cmap='RdBu_r')"
      ]
    },
    {
      "cell_type": "code",
      "execution_count": null,
      "metadata": {
        "id": "8LpYBJB1R_07"
      },
      "outputs": [],
      "source": [
        "# from sklearn.metrics import roc_curve, auc, f1_score\n",
        "# import numpy as np\n",
        "# import matplotlib.pyplot as plt\n",
        "\n",
        "# # Predict probabilities\n",
        "# y_pred_probs = text_clf.predict_proba(X_test)\n",
        "\n",
        "\n",
        "\n",
        "# # Plot ROC curve for class 'CG'\n",
        "# fpr_cg, tpr_cg, _ = roc_curve(y_test == 'CG', y_pred_probs[:, 0], pos_label=True)\n",
        "# roc_auc_cg = auc(fpr_cg, tpr_cg)\n",
        "\n",
        "# # Plot ROC curve for class 'OR'\n",
        "# fpr_or, tpr_or, _ = roc_curve(y_test == 'OR', y_pred_probs[:, 1], pos_label=True)\n",
        "# roc_auc_or = auc(fpr_or, tpr_or)\n",
        "\n",
        "# # Plot ROC curves\n",
        "# plt.figure(figsize=(8, 6))\n",
        "# plt.plot(fpr_cg, tpr_cg, color='darkorange', lw=2, label='ROC curve (area = %0.2f) for class CG' % roc_auc_cg)\n",
        "# plt.plot(fpr_or, tpr_or, color='darkgreen', lw=2, label='ROC curve (area = %0.2f) for class OR' % roc_auc_or)\n",
        "# plt.plot([0, 1], [0, 1], color='navy', lw=2, linestyle='--')\n",
        "# plt.xlim([0.0, 1.0])\n",
        "# plt.ylim([0.0, 1.05])\n",
        "# plt.xlabel('False Positive Rate')\n",
        "# plt.ylabel('True Positive Rate')\n",
        "# plt.title('Receiver Operating Characteristic (ROC) Curve')\n",
        "# plt.legend(loc=\"lower right\")\n",
        "# plt.show()\n",
        "\n",
        "\n"
      ]
    },
    {
      "cell_type": "code",
      "execution_count": null,
      "metadata": {
        "id": "vuGhoGMpjfcN"
      },
      "outputs": [],
      "source": [
        "from sklearn.preprocessing import LabelEncoder\n",
        "\n",
        "# Initialize LabelEncoder\n",
        "label_encoder = LabelEncoder()\n",
        "\n",
        "# Fit LabelEncoder to your target labels\n",
        "label_encoder.fit(y_train)\n",
        "\n",
        "# Transform target labels to numerical values\n",
        "y_test_encoded = label_encoder.transform(y_test)\n",
        "\n",
        "# Now y_test_encoded will contain numerical labels (0 and 1) instead of 'CG' and 'OR'\n",
        "\n",
        "# Compute ROC curve and ROC area\n",
        "fpr, tpr, _ = roc_curve(y_test_encoded, y_pred_probs)\n",
        "roc_auc = auc(fpr, tpr)\n",
        "\n",
        "# Plot ROC curve\n",
        "plt.figure(figsize=(8, 6))\n",
        "plt.plot(fpr, tpr, color='darkorange', lw=2, label='ROC curve (area = %0.2f)' % roc_auc)\n",
        "plt.plot([0, 1], [0, 1], color='navy', lw=2, linestyle='--')\n",
        "plt.xlim([0.0, 1.0])\n",
        "plt.ylim([0.0, 1.05])\n",
        "plt.xlabel('False Positive Rate')\n",
        "plt.ylabel('True Positive Rate')\n",
        "plt.title('Receiver Operating Characteristic (ROC) Curve')\n",
        "plt.legend(loc=\"lower right\")\n",
        "plt.show()\n"
      ]
    },
    {
      "cell_type": "code",
      "execution_count": null,
      "metadata": {
        "id": "elwpaiLbZ3wb"
      },
      "outputs": [],
      "source": [
        "# # Compute F1-score for each class\n",
        "# f1_scores = f1_score(y_test, y_pred, labels=['CG', 'OR'], average=None)\n",
        "\n",
        "# # Compute micro-average F1-score\n",
        "# f1_micro = f1_score(y_test, y_pred, average='micro')\n",
        "\n",
        "# # Compute macro-average F1-score\n",
        "# f1_macro = f1_score(y_test, y_pred, average='macro')\n",
        "# # # Plot F1-scores\n",
        "# plt.figure(figsize=(8, 6))\n",
        "# labels = ['CG', 'OR', 'Micro-Average', 'Macro-Average']\n",
        "# f1_scores = np.append(f1_scores, [f1_micro, f1_macro])\n",
        "# plt.bar(labels, f1_scores, color=['blue', 'green', 'orange', 'red'])\n",
        "# plt.xlabel('Class')\n",
        "# plt.ylabel('F1-Score')\n",
        "# plt.title('F1-Scores')\n",
        "# plt.ylim(0, 1)\n",
        "# plt.show()"
      ]
    },
    {
      "cell_type": "code",
      "execution_count": null,
      "metadata": {
        "id": "pvDuqP85Z4pe"
      },
      "outputs": [],
      "source": [
        "from sklearn.metrics import precision_recall_curve\n",
        "import matplotlib.pyplot as plt\n",
        "\n",
        "# Compute precision and recall for each class\n",
        "precision_cg, recall_cg, _ = precision_recall_curve(y_test == 'CG', y_pred_probs)\n",
        "precision_or, recall_or, _ = precision_recall_curve(y_test == 'OR', y_pred_probs)\n",
        "\n",
        "# Plot precision-recall curve for class 'CG'\n",
        "plt.figure(figsize=(8, 6))\n",
        "plt.plot(recall_cg, precision_cg, color='blue', lw=2, label='Precision-Recall curve for class CG')\n",
        "\n",
        "# Plot precision-recall curve for class 'OR'\n",
        "plt.plot(recall_or, precision_or, color='green', lw=2, label='Precision-Recall curve for class OR')\n",
        "\n",
        "# Add labels and title\n",
        "plt.xlabel('Recall')\n",
        "plt.ylabel('Precision')\n",
        "plt.title('Precision-Recall Curve')\n",
        "plt.legend(loc=\"lower left\")\n",
        "plt.show()\n"
      ]
    },
    {
      "cell_type": "code",
      "execution_count": null,
      "metadata": {
        "colab": {
          "base_uri": "https://localhost:8080/"
        },
        "id": "Ou5byLs4BaZc",
        "outputId": "c7eb1337-197c-4b10-eff7-c893322ea889"
      },
      "outputs": [
        {
          "output_type": "stream",
          "name": "stdout",
          "text": [
            "           category label predicted\n",
            "8635  Electronics_5    OR        OR\n",
            "8636  Electronics_5    OR        OR\n",
            "8637  Electronics_5    OR        OR\n",
            "8638  Electronics_5    OR        OR\n",
            "8639  Electronics_5    OR        CG\n",
            "8640  Electronics_5    OR        OR\n",
            "8641  Electronics_5    OR        OR\n",
            "8642  Electronics_5    OR        OR\n",
            "8643  Electronics_5    OR        OR\n",
            "8644  Electronics_5    OR        OR\n",
            "8645  Electronics_5    OR        OR\n",
            "8646  Electronics_5    OR        OR\n",
            "8647  Electronics_5    OR        CG\n",
            "8648  Electronics_5    CG        OR\n",
            "8649  Electronics_5    CG        CG\n",
            "8650  Electronics_5    CG        CG\n",
            "8651  Electronics_5    CG        CG\n",
            "8652  Electronics_5    CG        CG\n",
            "8653  Electronics_5    CG        CG\n",
            "8654  Electronics_5    CG        CG\n",
            "8655  Electronics_5    CG        CG\n",
            "8656  Electronics_5    CG        CG\n",
            "8657  Electronics_5    CG        CG\n",
            "8658  Electronics_5    CG        OR\n",
            "8659  Electronics_5    CG        CG\n",
            "8660  Electronics_5    CG        CG\n",
            "8661  Electronics_5    CG        CG\n",
            "8662  Electronics_5    CG        CG\n",
            "8663  Electronics_5    CG        CG\n",
            "8664  Electronics_5    CG        CG\n",
            "8665  Electronics_5    CG        CG\n",
            "8666  Electronics_5    CG        CG\n",
            "8667  Electronics_5    CG        CG\n",
            "8668  Electronics_5    CG        CG\n",
            "8669  Electronics_5    CG        CG\n",
            "8670  Electronics_5    CG        CG\n",
            "8671  Electronics_5    CG        CG\n",
            "8672  Electronics_5    CG        CG\n",
            "8673  Electronics_5    CG        CG\n",
            "8674  Electronics_5    CG        CG\n"
          ]
        }
      ],
      "source": [
        "d3=df[8635:8675].copy()\n",
        "d3['predicted'] = d3['processed_text'].apply(lambda x: text_clf.predict([x])[0])\n",
        "\n",
        "# Display the DataFrame\n",
        "print(d3[['category', 'label', 'predicted']])"
      ]
    },
    {
      "cell_type": "code",
      "execution_count": null,
      "metadata": {
        "id": "k8mZvQKHB2Hr"
      },
      "outputs": [],
      "source": [
        "def train_model(df):\n",
        "    X_train, y_train = df['processed_text'], df['label']\n",
        "\n",
        "    text_clf = Pipeline([\n",
        "    ('vectorizer', CountVectorizer()),\n",
        "    ('clf', RandomForestClassifier())])\n",
        "\n",
        "\n",
        "\n",
        "    # Fit the Model and Evaluate\n",
        "    text_clf.fit(X_train, y_train)\n",
        "\n",
        "    return text_clf\n",
        "\n",
        "def predict_class(text, model, preprocess_func):\n",
        "    processed_text = preprocess_func(text)\n",
        "    predicted_class = model.predict([processed_text])[0]\n",
        "    return predicted_class\n",
        "\n",
        "\n",
        "# Load Data\n",
        "df = pd.read_csv('/content/fake reviews data.csv')\n",
        "df['processed_text'] = df['text_'].apply(preprocess_text)\n",
        "\n",
        "# Train the model\n",
        "trained_model = train_model(df)\n",
        "\n",
        "\n"
      ]
    },
    {
      "cell_type": "code",
      "execution_count": null,
      "metadata": {
        "id": "jam9xMg0OGjA"
      },
      "outputs": [],
      "source": [
        "# # Sample text for prediction\n",
        "# input_text = \"I really enjoy using this product. It exceeded my expectations.\"\n",
        "\n",
        "# # Predict class for the input text\n",
        "# predicted_class = predict_class(input_text, trained_model, preprocess_text)\n",
        "\n",
        "# # Print the predicted class\n",
        "# print(\"Predicted Class:\", predicted_class)"
      ]
    },
    {
      "cell_type": "code",
      "execution_count": null,
      "metadata": {
        "colab": {
          "base_uri": "https://localhost:8080/"
        },
        "id": "zRDzqyhnCMkL",
        "outputId": "6982f8f0-f9ec-431e-ab83-d0f96ae622b4"
      },
      "outputs": [
        {
          "output_type": "stream",
          "name": "stdout",
          "text": [
            "Predicted Class: CG\n"
          ]
        }
      ],
      "source": [
        "input_text = \"Easy to use. Seems to be an easy way to make a smoothie for a small person.\"\n",
        "\n",
        "# Predict class for the input text\n",
        "predicted_class = predict_class(input_text, trained_model, preprocess_text)\n",
        "\n",
        "# Print the predicted class\n",
        "print(\"Predicted Class:\", predicted_class)\n"
      ]
    }
  ],
  "metadata": {
    "colab": {
      "provenance": []
    },
    "kernelspec": {
      "display_name": "Python 3",
      "name": "python3"
    },
    "language_info": {
      "name": "python"
    }
  },
  "nbformat": 4,
  "nbformat_minor": 0
}